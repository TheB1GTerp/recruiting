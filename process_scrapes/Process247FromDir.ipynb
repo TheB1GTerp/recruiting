{
 "cells": [
  {
   "cell_type": "code",
   "execution_count": null,
   "metadata": {},
   "outputs": [],
   "source": [
    "from bs4 import BeautifulSoup\n",
    "import requests\n",
    "import lxml\n",
    "import time\n",
    "import json\n",
    "import os\n",
    "from os import path"
   ]
  },
  {
   "cell_type": "code",
   "execution_count": null,
   "metadata": {},
   "outputs": [],
   "source": [
    "teamDir = \"247\\\\sec\\\\teams\\\\\"\n",
    "recruitDir = \"247\\\\sec\\\\recruits\\\\\""
   ]
  },
  {
   "cell_type": "code",
   "execution_count": null,
   "metadata": {},
   "outputs": [],
   "source": [
    "all_recruits = []\n",
    "\n",
    "for file in os.listdir(teamDir):\n",
    "    gameSoup = BeautifulSoup(open(teamDir + file, \"r\").read(), 'lxml')\n",
    "    starter = \"ri-page__list-item\"\n",
    "    team = file.split('_')[0]\n",
    "    y = (file.split('_')[1]).split('.')[0]\n",
    "    for x in gameSoup.find_all(\"li\", class_=\"ri-page__list-item\"):\n",
    "        #append player to sqlinsert list\n",
    "        player={}\n",
    "        player_status = \"\"\n",
    "        if (x.find(\"p\", class_=\"commit-date\") is not None):\n",
    "            player_status = x.find(\"p\", class_=\"commit-date\").text\n",
    "        if (player_status.strip() == 'Enrolled' or player_status.strip() == 'Signed'):\n",
    "            player['school'] = team\n",
    "            player['year'] = y\n",
    "            #Name\n",
    "            if (x.find(\"a\", class_=\"ri-page__name-link\") is not None):\n",
    "                player['playerName'] = x.find(\"a\", class_=\"ri-page__name-link\").text\n",
    "            #School/CityState\n",
    "            if (x.find(\"span\", class_=\"meta\") is not None):\n",
    "                locationInfoRaw = x.find(\"span\", class_=\"meta\")\n",
    "                locationInfoList = locationInfoRaw.text.split(\"(\")\n",
    "                player['highSchool'] = (locationInfoList[0].strip())\n",
    "                cityState = locationInfoList[1].split(', ')\n",
    "                if (len(cityState) > 1):\n",
    "                    #print(cityState)\n",
    "                    state = cityState[1].strip()\n",
    "                    #print(state.rstrip(')'))\n",
    "                    player['city'] = (cityState[0].strip())\n",
    "                    player['state'] = (state.rstrip(')'))\n",
    "                else:\n",
    "                    player['city'] = \"None\"\n",
    "                    player['state'] = \"None\"\n",
    "            #Composite Rating\n",
    "            if (x.find(\"span\", class_=\"score\") is not None):\n",
    "                player['compRating'] = (x.find(\"span\", class_=\"score\").text)\n",
    "            #Position\n",
    "            if (x.find(\"div\", class_=\"position\") is not None):\n",
    "                player['position'] = ((x.find(\"div\", class_=\"position\").text).strip())\n",
    "            #Height/Weight\n",
    "            if (x.find(\"div\", class_=\"metrics\") is not None):\n",
    "                heightWeight = x.find(\"div\", class_=\"metrics\").text.strip()\n",
    "                height = (heightWeight.split(' / '))[0]\n",
    "                inchHeightPre = height.split('-')\n",
    "                if (inchHeightPre[0] != ''):\n",
    "                    inchHeight = int(inchHeightPre[0])*12 + float(inchHeightPre[1])\n",
    "                else:\n",
    "                    inchHeight = '0.0'\n",
    "                weight = (heightWeight.split(' / '))[1]\n",
    "                if (weight == '-'):\n",
    "                    weight = '0'\n",
    "                player['height'] = (inchHeight)\n",
    "                player['weight'] = (weight)\n",
    "            #Stars\n",
    "            ratingChildren = x.find_all(\"span\", class_='icon-starsolid yellow')\n",
    "            i = 0\n",
    "            for child in ratingChildren:\n",
    "                i = i + 1\n",
    "            player['compStars'] = (i)\n",
    "            #National Rank\n",
    "            if (x.find(\"a\", class_=\"natrank\") is not None):\n",
    "                player['nationalRank'] = ((x.find(\"a\", class_=\"natrank\").text).strip())\n",
    "            #Position Rank\n",
    "            if (x.find(\"a\", class_=\"posrank\") is not None):\n",
    "                player['positionRank'] = ((x.find(\"a\", class_=\"posrank\").text).strip())\n",
    "            #State Rank\n",
    "            if (x.find(\"a\", class_=\"sttrank\") is not None):\n",
    "                player['stateRank'] = ((x.find(\"a\", class_=\"sttrank\").text).strip())\n",
    "        if player:\n",
    "            all_recruits.append(player)  \n",
    "print(all_recruits)"
   ]
  },
  {
   "cell_type": "code",
   "execution_count": null,
   "metadata": {},
   "outputs": [],
   "source": [
    "with open(\"scraped_json\\\\247_sec.json\", \"w\") as write_file:\n",
    "    json.dump(all_recruits, write_file)"
   ]
  },
  {
   "cell_type": "code",
   "execution_count": null,
   "metadata": {},
   "outputs": [],
   "source": []
  }
 ],
 "metadata": {
  "kernelspec": {
   "display_name": "Python 3",
   "language": "python",
   "name": "python3"
  },
  "language_info": {
   "codemirror_mode": {
    "name": "ipython",
    "version": 3
   },
   "file_extension": ".py",
   "mimetype": "text/x-python",
   "name": "python",
   "nbconvert_exporter": "python",
   "pygments_lexer": "ipython3",
   "version": "3.8.3"
  }
 },
 "nbformat": 4,
 "nbformat_minor": 2
}

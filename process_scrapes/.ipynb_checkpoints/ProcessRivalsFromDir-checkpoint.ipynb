{
 "cells": [
  {
   "cell_type": "code",
   "execution_count": 46,
   "metadata": {},
   "outputs": [],
   "source": [
    "from bs4 import BeautifulSoup\n",
    "import requests\n",
    "import lxml\n",
    "import time\n",
    "import json\n",
    "import os\n",
    "import io\n",
    "import school\n",
    "from os import path"
   ]
  },
  {
   "cell_type": "code",
   "execution_count": 47,
   "metadata": {},
   "outputs": [],
   "source": [
    "conference = \"sec\"\n",
    "teamDir = \"html//rivals//\" + conference + \"//teams//\"\n",
    "recruitDir = \"html//rivals//\" + conference + \"//recruits//\""
   ]
  },
  {
   "cell_type": "code",
   "execution_count": 48,
   "metadata": {},
   "outputs": [],
   "source": [
    "all_recruits = []\n",
    "error_files = [] \n",
    "for file in os.listdir(recruitDir):\n",
    "\n",
    "    player = {}\n",
    "    #get file contents and soup it\n",
    "    recruitSoup = BeautifulSoup(io.open(recruitDir + file, \"r\", encoding='windows-1252').read(), 'lxml')\n",
    "\n",
    "    #find the magical html attr\n",
    "    if (recruitSoup.find(\"div\", class_=\"profile-block\") is not None):\n",
    "        recruitInfoJson = recruitSoup.find(\"div\", class_=\"profile-block\")['ng-init']\n",
    "        #this is harsh - but i'm removing an init() and a trailing id which always seems to be x characters long\n",
    "        recruitInfo = json.loads(recruitInfoJson[5:-57])\n",
    "\n",
    "        #player info\n",
    "        player['school'] = recruitInfo['school_name']\n",
    "        player['year'] = recruitInfo['recruit_year']\n",
    "        player['playerName'] = recruitInfo['full_name']\n",
    "        player['city'] = recruitInfo['city']\n",
    "        player['state'] = recruitInfo['state_abbreviation']\n",
    "        player['highSchool'] = recruitInfo['highschool_name']        \n",
    "        player['position'] = recruitInfo['position_group_abbreviation']\n",
    "        player['height'] = recruitInfo['height']\n",
    "        player['weight'] = recruitInfo['weight']\n",
    "        player['stars'] = recruitInfo['stars']\n",
    "        player['nationalRank'] = recruitInfo['national_rank']\n",
    "        player['positionRank'] = recruitInfo['position_rank']\n",
    "        player['stateRank'] = recruitInfo['state_rank']\n",
    "\n",
    "        all_recruits.append(player)\n",
    "    else:\n",
    "        error_files.append(file)"
   ]
  },
  {
   "cell_type": "code",
   "execution_count": null,
   "metadata": {},
   "outputs": [],
   "source": [
    "print(all_recruits)"
   ]
  },
  {
   "cell_type": "code",
   "execution_count": 49,
   "metadata": {},
   "outputs": [],
   "source": [
    "with open(\"scraped_json//rivals_sec.json\", \"w\") as write_file:\n",
    "    json.dump(all_recruits, write_file)"
   ]
  },
  {
   "cell_type": "code",
   "execution_count": 50,
   "metadata": {},
   "outputs": [
    {
     "name": "stdout",
     "output_type": "stream",
     "text": [
      "[]\n"
     ]
    }
   ],
   "source": [
    "print(error_files)"
   ]
  },
  {
   "cell_type": "code",
   "execution_count": null,
   "metadata": {},
   "outputs": [],
   "source": []
  }
 ],
 "metadata": {
  "kernelspec": {
   "display_name": "Python 3",
   "language": "python",
   "name": "python3"
  },
  "language_info": {
   "codemirror_mode": {
    "name": "ipython",
    "version": 3
   },
   "file_extension": ".py",
   "mimetype": "text/x-python",
   "name": "python",
   "nbconvert_exporter": "python",
   "pygments_lexer": "ipython3",
   "version": "3.8.3"
  }
 },
 "nbformat": 4,
 "nbformat_minor": 2
}

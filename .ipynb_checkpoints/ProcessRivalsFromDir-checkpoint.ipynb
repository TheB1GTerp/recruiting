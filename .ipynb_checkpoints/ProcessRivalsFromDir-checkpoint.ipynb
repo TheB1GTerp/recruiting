{
 "cells": [
  {
   "cell_type": "code",
   "execution_count": 29,
   "metadata": {},
   "outputs": [],
   "source": [
    "from bs4 import BeautifulSoup\n",
    "import requests\n",
    "import lxml\n",
    "import time\n",
    "import json\n",
    "import os\n",
    "import io\n",
    "from os import path"
   ]
  },
  {
   "cell_type": "code",
   "execution_count": 30,
   "metadata": {},
   "outputs": [],
   "source": [
    "teamDir = \"rivals\\\\bigten\\\\teams\\\\\"\n",
    "recruitDir = \"rivals//bigten//recruits//\""
   ]
  },
  {
   "cell_type": "code",
   "execution_count": 31,
   "metadata": {},
   "outputs": [],
   "source": [
    "all_recruits = []\n",
    "error_files = [] \n",
    "for file in os.listdir(recruitDir):\n",
    "\n",
    "    player = {}\n",
    "    #get file contents and soup it\n",
    "    recruitSoup = BeautifulSoup(io.open(recruitDir + file, \"r\", encoding='windows-1252').read(), 'lxml')\n",
    "\n",
    "    #find the magical html attr\n",
    "    if (recruitSoup.find(\"div\", class_=\"profile-block\") is not None):\n",
    "        recruitInfoJson = recruitSoup.find(\"div\", class_=\"profile-block\")['ng-init']\n",
    "        #this is harsh - but i'm removing an init() and a trailing id which always seems to be x characters long\n",
    "        recruitInfo = json.loads(recruitInfoJson[5:-57])\n",
    "\n",
    "        #player info\n",
    "        player['school'] = recruitInfo['school_name']\n",
    "        player['year'] = recruitInfo['recruit_year']\n",
    "        player['playerName'] = recruitInfo['full_name']\n",
    "        player['city'] = recruitInfo['city']\n",
    "        player['state'] = recruitInfo['state_abbreviation']\n",
    "        player['highSchool'] = recruitInfo['highschool_name']        \n",
    "        player['position'] = recruitInfo['position_group_abbreviation']\n",
    "        player['height'] = recruitInfo['height']\n",
    "        player['weight'] = recruitInfo['weight']\n",
    "        player['stars'] = recruitInfo['stars']\n",
    "        player['nationalRank'] = recruitInfo['national_rank']\n",
    "        player['positionRank'] = recruitInfo['position_rank']\n",
    "        player['stateRank'] = recruitInfo['state_rank']\n",
    "\n",
    "        all_recruits.append(player)\n",
    "    else:\n",
    "        error_files.append(file)"
   ]
  },
  {
   "cell_type": "code",
   "execution_count": 32,
   "metadata": {},
   "outputs": [
    {
     "name": "stdout",
     "output_type": "stream",
     "text": [
      "[{'school': 'Maryland', 'year': 2016, 'playerName': 'Brett Shepherd', 'city': 'Collins', 'state': 'GA', 'highSchool': 'Collins Hill', 'position': 'ATH', 'height': 76.0, 'weight': 215, 'stars': 2, 'nationalRank': None, 'positionRank': None, 'stateRank': None}, {'school': 'Minnesota', 'year': 2016, 'playerName': 'Vincent Calhoun', 'city': 'Summit', 'state': 'MS', 'highSchool': 'Southwest Mississippi C.C.', 'position': 'OL', 'height': 76.0, 'weight': 335, 'stars': 2, 'nationalRank': None, 'positionRank': None, 'stateRank': None}, {'school': 'Michigan', 'year': 2017, 'playerName': 'Benjamin St-Juste', 'city': 'Montreal', 'state': 'PQ', 'highSchool': 'Vieux', 'position': 'DB', 'height': 75.0, 'weight': 185, 'stars': 4, 'nationalRank': 229, 'positionRank': 20, 'stateRank': None}, {'school': 'Indiana', 'year': 2016, 'playerName': \"A'shon Riggins\", 'city': 'Hamilton', 'state': 'OH', 'highSchool': 'Hamilton', 'position': 'DB', 'height': 72.0, 'weight': 162, 'stars': 3, 'nationalRank': None, 'positionRank': None, 'stateRank': 53}, {'school': 'Minnesota', 'year': 2017, 'playerName': 'Adam Beck', 'city': 'Richmond', 'state': 'TX', 'highSchool': 'George Ranch High School', 'position': 'DB', 'height': 74.0, 'weight': 184, 'stars': 3, 'nationalRank': None, 'positionRank': 40, 'stateRank': 76}, {'school': 'Penn State', 'year': 2017, 'playerName': 'Robert Martin', 'city': 'Sparta', 'state': 'NJ', 'highSchool': \"St. Joseph's\", 'position': 'OL', 'height': 76.0, 'weight': 275, 'stars': 3, 'nationalRank': None, 'positionRank': 39, 'stateRank': 20}, {'school': 'Penn State', 'year': 2016, 'playerName': 'Cameron Brown', 'city': 'Potomac', 'state': 'MD', 'highSchool': 'Bullis School', 'position': 'LB', 'height': 78.0, 'weight': 210, 'stars': 3, 'nationalRank': None, 'positionRank': 28, 'stateRank': 13}, {'school': 'Ohio State', 'year': 2017, 'playerName': 'Chase Young', 'city': 'Hyattsville', 'state': 'MD', 'highSchool': 'DeMatha', 'position': 'DE', 'height': 77.0, 'weight': 250, 'stars': 5, 'nationalRank': 8, 'positionRank': 3, 'stateRank': 1}]\n"
     ]
    }
   ],
   "source": [
    "print(all_recruits)"
   ]
  },
  {
   "cell_type": "code",
   "execution_count": 52,
   "metadata": {},
   "outputs": [],
   "source": [
    "with open(\"scraped_json\\\\rivals_sec.json\", \"w\") as write_file:\n",
    "    json.dump(all_recruits, write_file)"
   ]
  },
  {
   "cell_type": "code",
   "execution_count": 53,
   "metadata": {},
   "outputs": [
    {
     "name": "stdout",
     "output_type": "stream",
     "text": [
      "[]\n"
     ]
    }
   ],
   "source": [
    "print(error_files)"
   ]
  },
  {
   "cell_type": "code",
   "execution_count": null,
   "metadata": {},
   "outputs": [],
   "source": []
  }
 ],
 "metadata": {
  "kernelspec": {
   "display_name": "Python 3",
   "language": "python",
   "name": "python3"
  },
  "language_info": {
   "codemirror_mode": {
    "name": "ipython",
    "version": 3
   },
   "file_extension": ".py",
   "mimetype": "text/x-python",
   "name": "python",
   "nbconvert_exporter": "python",
   "pygments_lexer": "ipython3",
   "version": "3.8.3"
  }
 },
 "nbformat": 4,
 "nbformat_minor": 2
}
